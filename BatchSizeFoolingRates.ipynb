{
 "cells": [
  {
   "cell_type": "code",
   "execution_count": 1,
   "metadata": {},
   "outputs": [],
   "source": [
    "import torch, torchvision\n",
    "import method\n",
    "import numpy as np\n",
    "import matplotlib.pyplot as plt\n",
    "from tqdm import tqdm\n",
    "import torchvision.transforms as transforms\n",
    "import torchvision.datasets as datasets\n",
    "from skimage.io import imread\n",
    "from skimage.transform import resize\n",
    "import os\n",
    "from PIL import Image"
   ]
  },
  {
   "cell_type": "code",
   "execution_count": 2,
   "metadata": {},
   "outputs": [
    {
     "name": "stdout",
     "output_type": "stream",
     "text": [
      "env: CUDA_VISIBLE_DEVICES=3\n"
     ]
    }
   ],
   "source": [
    "%env CUDA_VISIBLE_DEVICES=3"
   ]
  },
  {
   "cell_type": "code",
   "execution_count": 3,
   "metadata": {},
   "outputs": [],
   "source": [
    "normalize = transforms.Normalize(mean=[0.485, 0.456, 0.406],\n",
    "                                 std=[0.229, 0.224, 0.225])\n",
    "\n",
    "transform = transforms.Compose([\n",
    "            transforms.Resize((224, 224)),\n",
    "            transforms.ToTensor()])"
   ]
  },
  {
   "cell_type": "code",
   "execution_count": 4,
   "metadata": {},
   "outputs": [],
   "source": [
    "def get_batch(valdir, batch_size):\n",
    "    img_batch = []\n",
    "    filenames = os.listdir(valdir)\n",
    "    for fn in filenames[:batch_size]:\n",
    "        img = Image.open(valdir + fn)\n",
    "        img = transform(img)\n",
    "        img = normalize(img)\n",
    "        img_batch.append(img.numpy())\n",
    "        \n",
    "    img_batch = np.array(img_batch)\n",
    "    \n",
    "    return img_batch"
   ]
  },
  {
   "cell_type": "code",
   "execution_count": 5,
   "metadata": {},
   "outputs": [],
   "source": [
    "def get_output_size(model, layer_num, device):\n",
    "    x = torch.randn(1, 3, 224, 224).to(device)\n",
    "    hidden_size = model.feature(x, layer_num).shape[0]\n",
    "    return hidden_size"
   ]
  },
  {
   "cell_type": "code",
   "execution_count": 6,
   "metadata": {},
   "outputs": [],
   "source": [
    "def compute_sing_vals_vecs(Adot, ATdot, p, q, max_iter):\n",
    "    x0 = ((np.random.rand(3 * 224**2) - 0.5)/ 255.).astype(np.float64)\n",
    "    x, s = method.power_method(np.copy(x0), Adot, ATdot, p=p, q=q, max_iter=max_iter)\n",
    "    return x"
   ]
  },
  {
   "cell_type": "code",
   "execution_count": 7,
   "metadata": {},
   "outputs": [],
   "source": [
    "def compute_fooling_rates(net, advs, device, valdir):\n",
    "    filenames = os.listdir(valdir)\n",
    "    batch_size = 128\n",
    "    n_steps = len(filenames) // batch_size + 1\n",
    "    counters = {}\n",
    "    for j, bsize in enumerate(advs):\n",
    "        counters[bsize] = 0.\n",
    "        adv = advs[bsize]\n",
    "        counter_bad = 0.\n",
    "        net.eval()\n",
    "        for i in tqdm(range(n_steps)):\n",
    "            fn_batch = filenames[i * batch_size : (i + 1) * batch_size]\n",
    "            cur_batch = []\n",
    "            cur_batch_pert = []\n",
    "            for fn in fn_batch:\n",
    "                cur_img = Image.open(valdir + fn)\n",
    "\n",
    "                if np.array(cur_img).ndim != 3 or np.array(cur_img).shape[-1] != 3:\n",
    "                    counter_bad += 1\n",
    "                    continue\n",
    "\n",
    "                cur_img = transform(cur_img)\n",
    "                cur_img_pert = cur_img + adv\n",
    "\n",
    "                cur_img = normalize(cur_img)\n",
    "                cur_img_pert = normalize(cur_img_pert)     \n",
    "\n",
    "                cur_batch.append(cur_img)\n",
    "                cur_batch_pert.append(cur_img_pert)\n",
    "\n",
    "            img_batch_tensor = torch.stack(cur_batch).to(device)\n",
    "            p = method.tonp(net(img_batch_tensor))\n",
    "            img_batch_pert_tensor = torch.stack(cur_batch_pert).to(device)\n",
    "            p_pert = method.tonp(net(img_batch_pert_tensor))\n",
    "            counters[bsize] += np.sum(p.argmax(1) != p_pert.argmax(1))\n",
    "            \n",
    "    fooling_rates = {}\n",
    "    for bsize in counters:\n",
    "        c = counters[bsize]\n",
    "        fooling_rates[bsize] = c / (len(filenames) - counter_bad)\n",
    "        \n",
    "    return fooling_rates"
   ]
  },
  {
   "cell_type": "code",
   "execution_count": 8,
   "metadata": {},
   "outputs": [],
   "source": [
    "def plot_fooling_rates(fooling_rates):\n",
    "    bsizes = list(fooling_rates.keys())\n",
    "    f_rates = list(fooling_rates.values())\n",
    "    plt.plot(bsizes, f_rates)\n",
    "    plt.xlabel('Batch size')\n",
    "    plt.ylabel('Fooling rate')\n",
    "    plt.grid()\n",
    "    plt.title('Dependence of the fooling rate on the batch size')\n",
    "    plt.show()"
   ]
  },
  {
   "cell_type": "code",
   "execution_count": 9,
   "metadata": {},
   "outputs": [],
   "source": [
    "def make_exp(net_type, device, layer_num):\n",
    "    valdir = './imnet/'\n",
    "    max_iter = 30\n",
    "    p = np.inf\n",
    "    q = 5\n",
    "    # define model\n",
    "    # net type: vgg16, vgg19 or resnet50\n",
    "    if net_type == 'vgg16':\n",
    "        net = torchvision.models.vgg16(pretrained=True)\n",
    "        net.to(device)\n",
    "        net.eval()\n",
    "        model = method.VGGWrapper(net, device)\n",
    "    elif net_type == 'vgg19':\n",
    "        net = torchvision.models.vgg19(pretrained=True)\n",
    "        net.to(device)\n",
    "        net.eval()\n",
    "        model = method.VGGWrapper(net, device)\n",
    "    elif args.model == 'resnet34':\n",
    "        net = torchvision.models.resnet34(pretrained=True)\n",
    "        net.to(device)\n",
    "        net.eval()\n",
    "        model = method.ResNetWrapper(net, device)\n",
    "    \n",
    "    # compute singluar values and vectors\n",
    "    batch_sizes = [16 * i for i in range(1, 9)]\n",
    "    advs = {}\n",
    "    for batch_size in tqdm(batch_sizes):\n",
    "        img_batch = get_batch(valdir, batch_size=batch_size)\n",
    "        hidden_size = get_output_size(model, layer_num, device)\n",
    "        Adot, ATdot = method.get_batched_matvec(img_batch, model, layer_num, hidden_size)\n",
    "        x = compute_sing_vals_vecs(Adot, ATdot, p, q, max_iter)\n",
    "        advs[batch_size] = torch.FloatTensor(x.reshape(3, 224, 224) * 10. / 255.)\n",
    "    \n",
    "    # make adversarials\n",
    "    \n",
    "    # compute fooling rates\n",
    "    fooling_rates = compute_fooling_rates(net, advs, device, valdir)\n",
    "    \n",
    "    # plot fooling rate\n",
    "    plot_fooling_rates(fooling_rates)\n",
    "    return fooling_rates"
   ]
  },
  {
   "cell_type": "code",
   "execution_count": null,
   "metadata": {},
   "outputs": [
    {
     "name": "stderr",
     "output_type": "stream",
     "text": [
      " 50%|█████     | 4/8 [06:05<06:02, 90.67s/it]"
     ]
    }
   ],
   "source": [
    "d = torch.device('cuda')\n",
    "fooling_rates = make_exp(net_type='vgg19', device=d, layer_num=10)"
   ]
  },
  {
   "cell_type": "code",
   "execution_count": null,
   "metadata": {},
   "outputs": [],
   "source": []
  },
  {
   "cell_type": "code",
   "execution_count": 19,
   "metadata": {},
   "outputs": [
    {
     "data": {
      "text/plain": [
       "{16: 0.5757026476578412,\n",
       " 32: 0.6059470468431772,\n",
       " 48: 0.604704684317719,\n",
       " 64: 0.599775967413442,\n",
       " 80: 0.614949083503055,\n",
       " 96: 0.6197148676171079,\n",
       " 112: 0.6213645621181263,\n",
       " 128: 0.6179226069246436}"
      ]
     },
     "execution_count": 19,
     "metadata": {},
     "output_type": "execute_result"
    }
   ],
   "source": [
    "fooling_rates"
   ]
  },
  {
   "cell_type": "code",
   "execution_count": 20,
   "metadata": {},
   "outputs": [
    {
     "data": {
      "text/plain": [
       "[16, 32, 48, 64, 80, 96, 112, 128]"
      ]
     },
     "execution_count": 20,
     "metadata": {},
     "output_type": "execute_result"
    }
   ],
   "source": [
    "[16 * i for i in range(1, 9)]"
   ]
  },
  {
   "cell_type": "code",
   "execution_count": 30,
   "metadata": {},
   "outputs": [
    {
     "data": {
      "text/plain": [
       "<matplotlib.legend.Legend at 0x7fef3673cc88>"
      ]
     },
     "execution_count": 30,
     "metadata": {},
     "output_type": "execute_result"
    },
    {
     "data": {
      "image/png": "[encoded data removed]",
      "text/plain": [
       "<Figure size 432x288 with 1 Axes>"
      ]
     },
     "metadata": {
      "needs_background": "light"
     },
     "output_type": "display_data"
    }
   ],
   "source": [
    "plt.plot(fooling_rates.keys(), fooling_rates.values(), label=\"SingularFool\")\n",
    "plt.plot(fooling_rates.keys(), [0.03, 0.09, 0.11, 0.12, 0.14, 0.16, 0.18, 0.195], label=\"UAP\")\n",
    "plt.xlabel('Batch size')\n",
    "plt.ylabel('Fooling rate')\n",
    "plt.grid()\n",
    "plt.title('Dependence of the fooling rate on the batch size')\n",
    "plt.legend()\n",
    "plt.savefig(\"./exp4.png\", dpi=300, )"
   ]
  },
  {
   "cell_type": "code",
   "execution_count": null,
   "metadata": {},
   "outputs": [],
   "source": []
  }
 ],
 "metadata": {
  "kernelspec": {
   "display_name": "Python [conda env:causal]",
   "language": "python",
   "name": "conda-env-causal-py"
  },
  "language_info": {
   "codemirror_mode": {
    "name": "ipython",
    "version": 3
   },
   "file_extension": ".py",
   "mimetype": "text/x-python",
   "name": "python",
   "nbconvert_exporter": "python",
   "pygments_lexer": "ipython3",
   "version": "3.7.1"
  }
 },
 "nbformat": 4,
 "nbformat_minor": 2
}
